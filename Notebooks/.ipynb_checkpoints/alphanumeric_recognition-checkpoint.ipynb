{
 "cells": [
  {
   "cell_type": "code",
   "execution_count": 1,
   "id": "59503f06",
   "metadata": {},
   "outputs": [],
   "source": [
    "import numpy as np\n",
    "import matplotlib.pyplot as plt\n",
    "import matplotlib.image as mpimg\n",
    "import tensorflow as tf\n",
    "import cv2 as cv\n",
    "import os\n",
    "from tensorflow.keras.preprocessing.image import ImageDataGenerator"
   ]
  },
  {
   "cell_type": "code",
   "execution_count": 2,
   "id": "1b8c355a",
   "metadata": {},
   "outputs": [],
   "source": [
    "tf.keras.backend.clear_session()"
   ]
  },
  {
   "cell_type": "markdown",
   "id": "63cb6090",
   "metadata": {},
   "source": [
    "### Data Preprocessing"
   ]
  },
  {
   "cell_type": "code",
   "execution_count": 3,
   "id": "9ec2a780",
   "metadata": {},
   "outputs": [
    {
     "name": "stdout",
     "output_type": "stream",
     "text": [
      "./../dataset/alphanumeric\n",
      "total class in training set is 62\n",
      "total data for training label q_L is 3279\n",
      "total data for training label W_U is 3473\n",
      "total data for training label S_U is 3473\n",
      "total data for training label u_L is 3278\n",
      "total data for training label Y_U is 3473\n",
      "total data for training label c_L is 3274\n",
      "total data for training label O_U is 3473\n",
      "total data for training label i_L is 3277\n",
      "total data for training label E_U is 3473\n",
      "total data for training label m_L is 3281\n",
      "total data for training label A_U is 3473\n",
      "total data for training label g_L is 3275\n",
      "total data for training label K_U is 3473\n",
      "total data for training label r_L is 3284\n",
      "total data for training label x_L is 3276\n",
      "total data for training label T_U is 3473\n",
      "total data for training label P_U is 3473\n",
      "total data for training label v_L is 3274\n",
      "total data for training label Z_U is 3473\n",
      "total data for training label 9 is 3473\n",
      "total data for training label 0 is 3473\n",
      "total data for training label 7 is 3473\n",
      "total data for training label L_U is 3473\n",
      "total data for training label j_L is 3274\n",
      "total data for training label F_U is 3473\n",
      "total data for training label 6 is 3473\n",
      "total data for training label n_L is 3281\n",
      "total data for training label B_U is 3473\n",
      "total data for training label 1 is 3473\n",
      "total data for training label d_L is 3277\n",
      "total data for training label 8 is 3473\n",
      "total data for training label H_U is 3473\n",
      "total data for training label U_U is 3473\n",
      "total data for training label y_L is 3276\n",
      "total data for training label s_L is 3276\n",
      "total data for training label w_L is 3275\n",
      "total data for training label Q_U is 3473\n",
      "total data for training label G_U is 3473\n",
      "total data for training label k_L is 3276\n",
      "total data for training label M_U is 3473\n",
      "total data for training label a_L is 3281\n",
      "total data for training label I_U is 3473\n",
      "total data for training label e_L is 3284\n",
      "total data for training label C_U is 3473\n",
      "total data for training label o_L is 3275\n",
      "total data for training label V_U is 3473\n",
      "total data for training label z_L is 3275\n",
      "total data for training label p_L is 3275\n",
      "total data for training label X_U is 3473\n",
      "total data for training label t_L is 3276\n",
      "total data for training label R_U is 3473\n",
      "total data for training label D_U is 3473\n",
      "total data for training label h_L is 3275\n",
      "total data for training label N_U is 3473\n",
      "total data for training label b_L is 3274\n",
      "total data for training label 4 is 3473\n",
      "total data for training label 3 is 3473\n",
      "total data for training label 2 is 3473\n",
      "total data for training label J_U is 3473\n",
      "total data for training label 5 is 3473\n",
      "total data for training label f_L is 3275\n",
      "total data for training label l_L is 3276\n"
     ]
    }
   ],
   "source": [
    "base_dir = './../dataset/'\n",
    "train_image_dir = os.path.join(base_dir, 'alphanumeric')\n",
    "\n",
    "print(train_image_dir)\n",
    "\n",
    "print(f\"total class in training set is {len(os.listdir(train_image_dir))}\")\n",
    "\n",
    "for char in os.listdir(train_image_dir):\n",
    "    print(f\"total data for training label {char} is {len(os.listdir(train_image_dir+'/'+char))}\")\n",
    "    "
   ]
  },
  {
   "cell_type": "code",
   "execution_count": 4,
   "id": "00215ad3",
   "metadata": {},
   "outputs": [],
   "source": [
    "image_generator = ImageDataGenerator(\n",
    "    rescale=1./255,\n",
    "    validation_split=0.2\n",
    ")"
   ]
  },
  {
   "cell_type": "code",
   "execution_count": 5,
   "id": "05417793",
   "metadata": {},
   "outputs": [
    {
     "name": "stdout",
     "output_type": "stream",
     "text": [
      "Found 168212 images belonging to 62 classes.\n",
      "Found 42015 images belonging to 62 classes.\n"
     ]
    }
   ],
   "source": [
    "train_generator = image_generator.flow_from_directory(\n",
    "    train_image_dir,\n",
    "    target_size=(60,60),\n",
    "    class_mode='categorical',\n",
    "    subset='training'\n",
    ")\n",
    "val_generator = image_generator.flow_from_directory(\n",
    "    train_image_dir,\n",
    "    target_size=(60,60),\n",
    "    class_mode='categorical',\n",
    "    subset='validation'\n",
    ")"
   ]
  },
  {
   "cell_type": "code",
   "execution_count": 6,
   "id": "bf812a1b",
   "metadata": {},
   "outputs": [
    {
     "data": {
      "image/png": "[encoded data removed]",
      "text/plain": [
       "<Figure size 432x288 with 1 Axes>"
      ]
     },
     "metadata": {
      "needs_background": "light"
     },
     "output_type": "display_data"
    }
   ],
   "source": [
    "image_file = os.listdir(train_image_dir + '/a_L')[np.random.randint(500)]\n",
    "im_path = os.path.join(train_image_dir + '/a_L', image_file)\n",
    "img = mpimg.imread(im_path)\n",
    "plt.imshow(img)\n",
    "plt.show()"
   ]
  },
  {
   "cell_type": "markdown",
   "id": "0bd19480",
   "metadata": {},
   "source": [
    "### Data Modeling"
   ]
  },
  {
   "cell_type": "code",
   "execution_count": 7,
   "id": "27ddb5e1",
   "metadata": {},
   "outputs": [],
   "source": [
    "# Define callback class\n",
    "class Callback_accuracy(tf.keras.callbacks.Callback):\n",
    "    def on_epoch_end(self, epoch, logs={}):\n",
    "        if logs.get('accuracy') >= 0.95 or logs.get('loss')<0.01:\n",
    "            print(\"The model already has more than 0.99 accuracy or less than 0.01 loss\")\n",
    "            self.model.stop_training = True\n",
    "\n",
    "callbacks = Callback_accuracy()"
   ]
  },
  {
   "cell_type": "code",
   "execution_count": 8,
   "id": "36ab17d9",
   "metadata": {},
   "outputs": [],
   "source": [
    "# Model architecture\n",
    "model = tf.keras.Sequential([\n",
    "    tf.keras.layers.Conv2D(32, (3,3), activation='relu', input_shape=(60, 60, 3)),\n",
    "    tf.keras.layers.AveragePooling2D(2,2),\n",
    "    tf.keras.layers.Conv2D(64, (3,3), activation='relu'),\n",
    "    tf.keras.layers.AveragePooling2D(2,2),\n",
    "    tf.keras.layers.Conv2D(32, (3,3), activation='relu'),\n",
    "    tf.keras.layers.AveragePooling2D(2,2),\n",
    "    tf.keras.layers.Flatten(),\n",
    "    tf.keras.layers.Dense(units=256, activation='relu'),\n",
    "    tf.keras.layers.Dropout(0.2),\n",
    "    tf.keras.layers.Dense(units=64, activation='relu'),\n",
    "    tf.keras.layers.Dense(units=62, activation='softmax')\n",
    "])"
   ]
  },
  {
   "cell_type": "code",
   "execution_count": 9,
   "id": "fb00c4f5",
   "metadata": {},
   "outputs": [],
   "source": [
    "model.compile(\n",
    "    loss='categorical_crossentropy',\n",
    "    optimizer=tf.keras.optimizers.Adam(learning_rate=0.001),\n",
    "    metrics=['accuracy']\n",
    ")"
   ]
  },
  {
   "cell_type": "code",
   "execution_count": 10,
   "id": "d450fdac",
   "metadata": {},
   "outputs": [
    {
     "name": "stdout",
     "output_type": "stream",
     "text": [
      "Epoch 1/30\n"
     ]
    },
    {
     "name": "stderr",
     "output_type": "stream",
     "text": [
      "2023-06-10 02:55:54.168410: W tensorflow/tsl/platform/profile_utils/cpu_utils.cc:128] Failed to get CPU frequency: 0 Hz\n"
     ]
    },
    {
     "name": "stdout",
     "output_type": "stream",
     "text": [
      "5257/5257 [==============================] - 177s 34ms/step - loss: 0.8815 - accuracy: 0.7702 - val_loss: 0.3427 - val_accuracy: 0.9025\n",
      "Epoch 2/30\n",
      "5257/5257 [==============================] - 172s 33ms/step - loss: 0.4743 - accuracy: 0.8647 - val_loss: 0.2839 - val_accuracy: 0.9146\n",
      "Epoch 3/30\n",
      "5257/5257 [==============================] - 176s 34ms/step - loss: 0.4058 - accuracy: 0.8811 - val_loss: 0.2500 - val_accuracy: 0.9268\n",
      "Epoch 4/30\n",
      "5257/5257 [==============================] - 178s 34ms/step - loss: 0.3662 - accuracy: 0.8917 - val_loss: 0.2534 - val_accuracy: 0.9263\n",
      "Epoch 5/30\n",
      "5257/5257 [==============================] - 190s 36ms/step - loss: 0.3400 - accuracy: 0.8981 - val_loss: 0.2286 - val_accuracy: 0.9312\n",
      "Epoch 6/30\n",
      "5257/5257 [==============================] - 187s 36ms/step - loss: 0.3208 - accuracy: 0.9031 - val_loss: 0.2201 - val_accuracy: 0.9342\n",
      "Epoch 7/30\n",
      "5257/5257 [==============================] - 196s 37ms/step - loss: 0.3056 - accuracy: 0.9071 - val_loss: 0.2337 - val_accuracy: 0.9295\n",
      "Epoch 8/30\n",
      "5257/5257 [==============================] - 202s 38ms/step - loss: 0.2938 - accuracy: 0.9101 - val_loss: 0.2239 - val_accuracy: 0.9353\n",
      "Epoch 9/30\n",
      "5257/5257 [==============================] - 216s 41ms/step - loss: 0.2847 - accuracy: 0.9126 - val_loss: 0.2200 - val_accuracy: 0.9361\n",
      "Epoch 10/30\n",
      "5257/5257 [==============================] - 205s 39ms/step - loss: 0.2748 - accuracy: 0.9160 - val_loss: 0.2131 - val_accuracy: 0.9358\n",
      "Epoch 11/30\n",
      "5257/5257 [==============================] - 202s 38ms/step - loss: 0.2655 - accuracy: 0.9185 - val_loss: 0.2274 - val_accuracy: 0.9367\n",
      "Epoch 12/30\n",
      "5257/5257 [==============================] - 205s 39ms/step - loss: 0.2592 - accuracy: 0.9196 - val_loss: 0.2319 - val_accuracy: 0.9350\n",
      "Epoch 13/30\n",
      "5257/5257 [==============================] - 209s 40ms/step - loss: 0.2533 - accuracy: 0.9215 - val_loss: 0.2322 - val_accuracy: 0.9348\n",
      "Epoch 14/30\n",
      "5257/5257 [==============================] - 201s 38ms/step - loss: 0.2487 - accuracy: 0.9228 - val_loss: 0.2310 - val_accuracy: 0.9349\n",
      "Epoch 15/30\n",
      "5257/5257 [==============================] - 199s 38ms/step - loss: 0.2463 - accuracy: 0.9239 - val_loss: 0.2263 - val_accuracy: 0.9361\n",
      "Epoch 16/30\n",
      "5257/5257 [==============================] - 203s 39ms/step - loss: 0.2393 - accuracy: 0.9258 - val_loss: 0.2405 - val_accuracy: 0.9367\n",
      "Epoch 17/30\n",
      "5257/5257 [==============================] - 210s 40ms/step - loss: 0.2375 - accuracy: 0.9261 - val_loss: 0.2319 - val_accuracy: 0.9390\n",
      "Epoch 18/30\n",
      "5257/5257 [==============================] - 201s 38ms/step - loss: 0.2335 - accuracy: 0.9277 - val_loss: 0.2416 - val_accuracy: 0.9366\n",
      "Epoch 19/30\n",
      "5257/5257 [==============================] - 202s 38ms/step - loss: 0.2309 - accuracy: 0.9283 - val_loss: 0.2352 - val_accuracy: 0.9372\n",
      "Epoch 20/30\n",
      "5257/5257 [==============================] - 215s 41ms/step - loss: 0.2289 - accuracy: 0.9290 - val_loss: 0.2351 - val_accuracy: 0.9365\n",
      "Epoch 21/30\n",
      "5257/5257 [==============================] - 206s 39ms/step - loss: 0.2233 - accuracy: 0.9302 - val_loss: 0.2369 - val_accuracy: 0.9359\n",
      "Epoch 22/30\n",
      "5257/5257 [==============================] - 207s 39ms/step - loss: 0.2221 - accuracy: 0.9306 - val_loss: 0.2675 - val_accuracy: 0.9337\n",
      "Epoch 23/30\n",
      "5257/5257 [==============================] - 202s 38ms/step - loss: 0.2193 - accuracy: 0.9314 - val_loss: 0.2455 - val_accuracy: 0.9373\n",
      "Epoch 24/30\n",
      "5257/5257 [==============================] - 198s 38ms/step - loss: 0.2212 - accuracy: 0.9314 - val_loss: 0.2515 - val_accuracy: 0.9379\n",
      "Epoch 25/30\n",
      "5257/5257 [==============================] - 193s 37ms/step - loss: 0.2157 - accuracy: 0.9329 - val_loss: 0.2629 - val_accuracy: 0.9345\n",
      "Epoch 26/30\n",
      "5257/5257 [==============================] - 209s 40ms/step - loss: 0.2130 - accuracy: 0.9340 - val_loss: 0.2545 - val_accuracy: 0.9356\n",
      "Epoch 27/30\n",
      "5257/5257 [==============================] - 222s 42ms/step - loss: 0.2114 - accuracy: 0.9343 - val_loss: 0.2657 - val_accuracy: 0.9363\n",
      "Epoch 28/30\n",
      "5257/5257 [==============================] - 212s 40ms/step - loss: 0.2090 - accuracy: 0.9355 - val_loss: 0.2493 - val_accuracy: 0.9359\n",
      "Epoch 29/30\n",
      "5257/5257 [==============================] - 214s 41ms/step - loss: 0.2094 - accuracy: 0.9345 - val_loss: 0.2665 - val_accuracy: 0.9379\n",
      "Epoch 30/30\n",
      "5257/5257 [==============================] - 206s 39ms/step - loss: 0.2070 - accuracy: 0.9355 - val_loss: 0.2684 - val_accuracy: 0.9378\n"
     ]
    }
   ],
   "source": [
    "history = model.fit(train_generator, epochs=30, validation_data=val_generator, verbose=1, callbacks=[callbacks])"
   ]
  },
  {
   "cell_type": "code",
   "execution_count": 11,
   "id": "91c19499",
   "metadata": {},
   "outputs": [
    {
     "data": {
      "image/png": "[encoded data removed]",
      "text/plain": [
       "<Figure size 432x288 with 1 Axes>"
      ]
     },
     "metadata": {
      "needs_background": "light"
     },
     "output_type": "display_data"
    },
    {
     "data": {
      "text/plain": [
       "<Figure size 432x288 with 0 Axes>"
      ]
     },
     "metadata": {},
     "output_type": "display_data"
    },
    {
     "data": {
      "image/png": "[encoded data removed]",
      "text/plain": [
       "<Figure size 432x288 with 1 Axes>"
      ]
     },
     "metadata": {
      "needs_background": "light"
     },
     "output_type": "display_data"
    },
    {
     "data": {
      "text/plain": [
       "<Figure size 432x288 with 0 Axes>"
      ]
     },
     "metadata": {},
     "output_type": "display_data"
    }
   ],
   "source": [
    "acc = history.history['accuracy']\n",
    "val_acc = history.history['val_accuracy']\n",
    "\n",
    "epochs = range(len(acc))\n",
    "\n",
    "plt.plot(epochs, acc, 'b', label='Training Accuracy')\n",
    "plt.plot(epochs, val_acc, 'r', label='Validation Accuracy')\n",
    "plt.title(\"Training vs Validation Accuracy\")\n",
    "plt.legend(loc=0)\n",
    "plt.figure()\n",
    "plt.show()\n",
    "\n",
    "loss = history.history['loss']\n",
    "val_loss = history.history['val_loss']\n",
    "\n",
    "plt.plot(epochs, loss, 'b', label='Training Loss')\n",
    "plt.plot(epochs, val_loss, 'r', label='Validation Loss')\n",
    "plt.title(\"Training vs Validation Loss\")\n",
    "plt.legend(loc=0)\n",
    "plt.figure()\n",
    "plt.show()"
   ]
  },
  {
   "cell_type": "code",
   "execution_count": 12,
   "id": "909ca07c",
   "metadata": {},
   "outputs": [
    {
     "name": "stdout",
     "output_type": "stream",
     "text": [
      "5257/5257 [==============================] - 57s 11ms/step - loss: 0.1634 - accuracy: 0.9502\n"
     ]
    },
    {
     "data": {
      "text/plain": [
       "[0.16335059702396393, 0.9502235054969788]"
      ]
     },
     "execution_count": 12,
     "metadata": {},
     "output_type": "execute_result"
    }
   ],
   "source": [
    "model.evaluate(train_generator)"
   ]
  },
  {
   "cell_type": "code",
   "execution_count": 13,
   "id": "9fa4d846",
   "metadata": {},
   "outputs": [],
   "source": [
    "model.save('model_93.h5')"
   ]
  },
  {
   "cell_type": "markdown",
   "id": "b4f3fc84",
   "metadata": {},
   "source": [
    "#### If neccessary"
   ]
  },
  {
   "cell_type": "code",
   "execution_count": 21,
   "id": "2c047011",
   "metadata": {},
   "outputs": [],
   "source": [
    "# Tune the learning rate for optimizer\n",
    "lr_schedule = tf.keras.callbacks.LearningRateScheduler(\n",
    "    lambda epoch: 1e-8 * 10**(epoch / 20))"
   ]
  },
  {
   "cell_type": "code",
   "execution_count": 52,
   "id": "5aeb7e39",
   "metadata": {},
   "outputs": [
    {
     "data": {
      "text/plain": [
       "(1e-08, 0.001, 0.0, 100.0)"
      ]
     },
     "execution_count": 52,
     "metadata": {},
     "output_type": "execute_result"
    },
    {
     "data": {
      "image/png": "[encoded data removed]",
      "text/plain": [
       "<Figure size 720x432 with 1 Axes>"
      ]
     },
     "metadata": {
      "needs_background": "light"
     },
     "output_type": "display_data"
    }
   ],
   "source": [
    "# # Define the learning rate array\n",
    "# lrs = 1e-8 * (10 ** (np.arange(50) / 20))\n",
    "\n",
    "# # Set the figure size\n",
    "# plt.figure(figsize=(10, 6))\n",
    "\n",
    "# # Set the grid\n",
    "# plt.grid(True)\n",
    "\n",
    "# # Plot the loss in log scale\n",
    "# plt.semilogx(lrs, history.history[\"loss\"])\n",
    "\n",
    "# # Increase the tickmarks size\n",
    "# plt.tick_params('both', length=10, width=1, which='both')\n",
    "\n",
    "# # Set the plot boundaries\n",
    "# plt.axis([1e-8, 1e-3, 0, 100])"
   ]
  },
  {
   "cell_type": "code",
   "execution_count": null,
   "id": "ee336e6f",
   "metadata": {},
   "outputs": [],
   "source": [
    "# If neccessary\n",
    "model.compile(\n",
    "    loss='categorical_crossentropy',\n",
    "    optimizer=tf.keras.optimizers.RMSprop(learning_rate=0.001),\n",
    "    metrics=['accuracy']\n",
    ")"
   ]
  },
  {
   "cell_type": "code",
   "execution_count": null,
   "id": "03182163",
   "metadata": {},
   "outputs": [],
   "source": [
    "history = model.fit(train_generator, epochs=50, validation_data=val_generator, verbose=1, callbacks=[callbacks])"
   ]
  },
  {
   "cell_type": "markdown",
   "id": "092c434e",
   "metadata": {},
   "source": [
    "### Predicting Data"
   ]
  },
  {
   "cell_type": "code",
   "execution_count": 86,
   "id": "12307872",
   "metadata": {},
   "outputs": [
    {
     "data": {
      "image/png": "[encoded data removed]",
      "text/plain": [
       "<Figure size 432x288 with 1 Axes>"
      ]
     },
     "metadata": {
      "needs_background": "light"
     },
     "output_type": "display_data"
    },
    {
     "name": "stdout",
     "output_type": "stream",
     "text": [
      "1/1 [==============================] - 0s 9ms/step\n",
      "path: /Z\n",
      "predicted:Z\n"
     ]
    }
   ],
   "source": [
    "from tensorflow.keras.utils import load_img, img_to_array\n",
    "\n",
    "cls = '/Z'\n",
    "image_file = os.listdir(train_image_dir + cls)[np.random.randint(500)]\n",
    "im_path = os.path.join(train_image_dir + cls, image_file)\n",
    "img = mpimg.imread(im_path)\n",
    "plt.imshow(img)\n",
    "plt.show()\n",
    "\n",
    "classes_obj = {\n",
    "    0: 0, 1:1, 2:2, 3:3, 4:4, 5:5, 6:6, 7:7, 8:8, 9:9, 10:\"A\", 11:\"B\", 12:\"C\", 13:\"D\", 14:\"E\", 15:\"F\", 16:\"G\", 17:\"H\",\n",
    "    18:\"I\", 19:\"J\", 20:\"K\", 21:\"L\", 22:\"M\", 23:\"N\", 24:\"O\", 25:\"P\", 26:\"Q\", 27:\"R\", 28:\"S\", 29:\"T\", 30:\"U\", 31:\"V\", 32:\"W\",\n",
    "    33:\"X\", 34:\"Y\", 35:\"Z\", 36:\"a\", 37:\"b\", 38:\"c\", 39:\"d\", 40:\"e\", 41:\"f\", 42:\"g\", 43:\"h\",\n",
    "    44:\"i\", 45:\"j\", 46:\"k\", 47:\"l\", 48:\"m\", 49:\"n\", 50:\"o\", 51:\"p\", 52:\"q\", 53:\"r\", 54:\"s\", 55:\"t\", 56:\"u\", 57:\"v\", 58:\"w\",\n",
    "    59:\"x\", 60:\"y\", 61:\"z\"\n",
    "}\n",
    "\n",
    " \n",
    "# predicting images\n",
    "img = load_img(im_path, target_size=(60, 60))\n",
    "x = img_to_array(img)\n",
    "x = np.expand_dims(x, axis=0)\n",
    "\n",
    "images = np.vstack([x])\n",
    "classes = model.predict(images, batch_size=10)\n",
    "print(f'path: {cls}\\npredicted:{classes_obj.get(np.argmax(classes))}')"
   ]
  },
  {
   "cell_type": "code",
   "execution_count": null,
   "id": "28422fea",
   "metadata": {},
   "outputs": [],
   "source": []
  }
 ],
 "metadata": {
  "kernelspec": {
   "display_name": "Python 3 (ipykernel)",
   "language": "python",
   "name": "python3"
  },
  "language_info": {
   "codemirror_mode": {
    "name": "ipython",
    "version": 3
   },
   "file_extension": ".py",
   "mimetype": "text/x-python",
   "name": "python",
   "nbconvert_exporter": "python",
   "pygments_lexer": "ipython3",
   "version": "3.10.11"
  }
 },
 "nbformat": 4,
 "nbformat_minor": 5
}
