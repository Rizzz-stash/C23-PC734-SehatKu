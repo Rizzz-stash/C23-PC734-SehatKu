{
 "cells": [
  {
   "cell_type": "code",
   "execution_count": 1,
   "id": "59503f06",
   "metadata": {},
   "outputs": [],
   "source": [
    "import numpy as np\n",
    "import matplotlib.pyplot as plt\n",
    "import matplotlib.image as mpimg\n",
    "import tensorflow as tf\n",
    "import cv2 as cv\n",
    "import os\n",
    "from tensorflow.keras.preprocessing.image import ImageDataGenerator"
   ]
  },
  {
   "cell_type": "code",
   "execution_count": 59,
   "id": "1b8c355a",
   "metadata": {},
   "outputs": [],
   "source": [
    "tf.keras.backend.clear_session()"
   ]
  },
  {
   "cell_type": "markdown",
   "id": "63cb6090",
   "metadata": {},
   "source": [
    "### Data Preprocessing"
   ]
  },
  {
   "cell_type": "code",
   "execution_count": 70,
   "id": "9ec2a780",
   "metadata": {},
   "outputs": [
    {
     "name": "stdout",
     "output_type": "stream",
     "text": [
      "total class in training set is 36\n",
      "total class in validation set is 36\n"
     ]
    }
   ],
   "source": [
    "base_dir = './../dataset/'\n",
    "train_image_dir = os.path.join(base_dir, 'character_digit/training_data')\n",
    "val_image_dir = os.path.join(base_dir, 'character_digit/testing_data')\n",
    "\n",
    "print(f\"total class in training set is {len(os.listdir(train_image_dir))}\")\n",
    "print(f\"total class in validation set is {len(os.listdir(train_image_dir))}\")\n",
    "\n"
   ]
  },
  {
   "cell_type": "code",
   "execution_count": 71,
   "id": "00215ad3",
   "metadata": {},
   "outputs": [],
   "source": [
    "train_data = ImageDataGenerator(\n",
    "    rescale=1./255,\n",
    "    rotation_range=30,\n",
    "    width_shift_range=0.2,\n",
    "    height_shift_range=0.2,\n",
    "    shear_range=0.2,\n",
    "    zoom_range=0.1,\n",
    "    horizontal_flip=True,\n",
    "    fill_mode='nearest'\n",
    ")\n",
    "\n",
    "val_data = ImageDataGenerator(\n",
    "    rescale=1./255,\n",
    "    rotation_range=30,\n",
    "    width_shift_range=0.2,\n",
    "    height_shift_range=0.2,\n",
    "    shear_range=0.2,\n",
    "    zoom_range=0.1,\n",
    "    horizontal_flip=True,\n",
    "    fill_mode='nearest'\n",
    ")"
   ]
  },
  {
   "cell_type": "code",
   "execution_count": 72,
   "id": "05417793",
   "metadata": {},
   "outputs": [
    {
     "name": "stdout",
     "output_type": "stream",
     "text": [
      "Found 20628 images belonging to 36 classes.\n",
      "Found 1008 images belonging to 36 classes.\n"
     ]
    }
   ],
   "source": [
    "train_generator = train_data.flow_from_directory(\n",
    "    train_image_dir,\n",
    "    target_size=(30,30),\n",
    "    class_mode='categorical',\n",
    ")\n",
    "val_generator = val_data.flow_from_directory(\n",
    "    val_image_dir,\n",
    "    target_size=(30,30),\n",
    "    class_mode='categorical',\n",
    ")"
   ]
  },
  {
   "cell_type": "code",
   "execution_count": 73,
   "id": "bf812a1b",
   "metadata": {},
   "outputs": [
    {
     "data": {
      "image/png": "[encoded data removed]",
      "text/plain": [
       "<Figure size 432x288 with 1 Axes>"
      ]
     },
     "metadata": {
      "needs_background": "light"
     },
     "output_type": "display_data"
    }
   ],
   "source": [
    "image_file = os.listdir(train_image_dir + '/R')[0]\n",
    "im_path = os.path.join(train_image_dir + '/R', image_file)\n",
    "img = mpimg.imread(im_path)\n",
    "plt.imshow(img)\n",
    "plt.axis(\"Off\")\n",
    "plt.show()"
   ]
  },
  {
   "cell_type": "markdown",
   "id": "0bd19480",
   "metadata": {},
   "source": [
    "### Data Modeling"
   ]
  },
  {
   "cell_type": "code",
   "execution_count": 74,
   "id": "27ddb5e1",
   "metadata": {},
   "outputs": [],
   "source": [
    "# Define callback class\n",
    "class Callback_accuracy(tf.keras.callbacks.Callback):\n",
    "    def on_epoch_end(self, epoch, logs={}):\n",
    "        if logs.get('accuracy') > 0.9 or logs.get('loss')<0.02:\n",
    "            print(\"The model already has more than 0.9 accuracy or less than 0.02 loss\")\n",
    "            self.model.stop_training = True\n",
    "\n",
    "callbacks = Callback_accuracy()"
   ]
  },
  {
   "cell_type": "code",
   "execution_count": 75,
   "id": "2c047011",
   "metadata": {},
   "outputs": [],
   "source": [
    "# Tune the learning rate for optimizer"
   ]
  },
  {
   "cell_type": "code",
   "execution_count": 80,
   "id": "36ab17d9",
   "metadata": {},
   "outputs": [],
   "source": [
    "# Model architecture\n",
    "model = tf.keras.Sequential([\n",
    "    tf.keras.layers.Conv2D(16, (3,3), activation='relu', input_shape=(30, 30, 3)),\n",
    "    tf.keras.layers.MaxPooling2D(2,2),\n",
    "    tf.keras.layers.Conv2D(16, (3,3), activation='relu'),\n",
    "    tf.keras.layers.MaxPooling2D(2,2),\n",
    "    tf.keras.layers.Flatten(),\n",
    "    tf.keras.layers.Dense(units=32, activation='relu'),\n",
    "    tf.keras.layers.Dense(units=128, activation='relu'),\n",
    "    tf.keras.layers.Dense(units=36, activation='softmax')\n",
    "])"
   ]
  },
  {
   "cell_type": "code",
   "execution_count": 81,
   "id": "fb00c4f5",
   "metadata": {},
   "outputs": [],
   "source": [
    "model.compile(\n",
    "    loss='categorical_crossentropy',\n",
    "    optimizer=tf.keras.optimizers.RMSprop(learning_rate=0.001),\n",
    "    metrics=['accuracy']\n",
    ")"
   ]
  },
  {
   "cell_type": "code",
   "execution_count": 82,
   "id": "d450fdac",
   "metadata": {},
   "outputs": [
    {
     "name": "stdout",
     "output_type": "stream",
     "text": [
      "Epoch 1/100\n",
      "645/645 [==============================] - 9s 14ms/step - loss: 2.8855 - accuracy: 0.1732 - val_loss: 2.1298 - val_accuracy: 0.3373\n",
      "Epoch 2/100\n",
      "645/645 [==============================] - 8s 12ms/step - loss: 1.8916 - accuracy: 0.4147 - val_loss: 1.5062 - val_accuracy: 0.5288\n",
      "Epoch 3/100\n",
      "645/645 [==============================] - 8s 12ms/step - loss: 1.5162 - accuracy: 0.5211 - val_loss: 1.2744 - val_accuracy: 0.5675\n",
      "Epoch 4/100\n",
      "645/645 [==============================] - 7s 10ms/step - loss: 1.3000 - accuracy: 0.5857 - val_loss: 1.1228 - val_accuracy: 0.6438\n",
      "Epoch 5/100\n",
      "645/645 [==============================] - 6s 10ms/step - loss: 1.1710 - accuracy: 0.6303 - val_loss: 0.8441 - val_accuracy: 0.7173\n",
      "Epoch 6/100\n",
      "645/645 [==============================] - 7s 10ms/step - loss: 1.0800 - accuracy: 0.6615 - val_loss: 0.8497 - val_accuracy: 0.7093\n",
      "Epoch 7/100\n",
      "645/645 [==============================] - 7s 10ms/step - loss: 1.0117 - accuracy: 0.6817 - val_loss: 0.7729 - val_accuracy: 0.7391\n",
      "Epoch 8/100\n",
      "645/645 [==============================] - 6s 10ms/step - loss: 0.9522 - accuracy: 0.6990 - val_loss: 0.6662 - val_accuracy: 0.7718\n",
      "Epoch 9/100\n",
      "645/645 [==============================] - 6s 10ms/step - loss: 0.9035 - accuracy: 0.7197 - val_loss: 0.7698 - val_accuracy: 0.7401\n",
      "Epoch 10/100\n",
      "645/645 [==============================] - 6s 10ms/step - loss: 0.8578 - accuracy: 0.7302 - val_loss: 0.6489 - val_accuracy: 0.7748\n",
      "Epoch 11/100\n",
      "645/645 [==============================] - 6s 10ms/step - loss: 0.8218 - accuracy: 0.7401 - val_loss: 0.7659 - val_accuracy: 0.7431\n",
      "Epoch 12/100\n",
      "645/645 [==============================] - 6s 10ms/step - loss: 0.7946 - accuracy: 0.7545 - val_loss: 0.6327 - val_accuracy: 0.7837\n",
      "Epoch 13/100\n",
      "645/645 [==============================] - 6s 10ms/step - loss: 0.7528 - accuracy: 0.7660 - val_loss: 0.5606 - val_accuracy: 0.8095\n",
      "Epoch 14/100\n",
      "645/645 [==============================] - 6s 10ms/step - loss: 0.7478 - accuracy: 0.7677 - val_loss: 0.6334 - val_accuracy: 0.7927\n",
      "Epoch 15/100\n",
      "645/645 [==============================] - 6s 10ms/step - loss: 0.7167 - accuracy: 0.7763 - val_loss: 0.5936 - val_accuracy: 0.7956\n",
      "Epoch 16/100\n",
      "645/645 [==============================] - 6s 10ms/step - loss: 0.7006 - accuracy: 0.7815 - val_loss: 0.5201 - val_accuracy: 0.8125\n",
      "Epoch 17/100\n",
      "645/645 [==============================] - 6s 10ms/step - loss: 0.6890 - accuracy: 0.7859 - val_loss: 0.4530 - val_accuracy: 0.8482\n",
      "Epoch 18/100\n",
      "645/645 [==============================] - 6s 10ms/step - loss: 0.6768 - accuracy: 0.7916 - val_loss: 0.4285 - val_accuracy: 0.8532\n",
      "Epoch 19/100\n",
      "645/645 [==============================] - 6s 10ms/step - loss: 0.6611 - accuracy: 0.7943 - val_loss: 0.4149 - val_accuracy: 0.8522\n",
      "Epoch 20/100\n",
      "645/645 [==============================] - 6s 10ms/step - loss: 0.6397 - accuracy: 0.8042 - val_loss: 0.4421 - val_accuracy: 0.8482\n",
      "Epoch 21/100\n",
      "645/645 [==============================] - 6s 10ms/step - loss: 0.6283 - accuracy: 0.7996 - val_loss: 0.4396 - val_accuracy: 0.8492\n",
      "Epoch 22/100\n",
      "645/645 [==============================] - 6s 10ms/step - loss: 0.6214 - accuracy: 0.8102 - val_loss: 0.4418 - val_accuracy: 0.8502\n",
      "Epoch 23/100\n",
      "645/645 [==============================] - 6s 10ms/step - loss: 0.6171 - accuracy: 0.8102 - val_loss: 0.4609 - val_accuracy: 0.8492\n",
      "Epoch 24/100\n",
      "645/645 [==============================] - 6s 10ms/step - loss: 0.6061 - accuracy: 0.8126 - val_loss: 0.4097 - val_accuracy: 0.8562\n",
      "Epoch 25/100\n",
      "645/645 [==============================] - 6s 10ms/step - loss: 0.5976 - accuracy: 0.8138 - val_loss: 0.4831 - val_accuracy: 0.8383\n",
      "Epoch 26/100\n",
      "645/645 [==============================] - 6s 10ms/step - loss: 0.5831 - accuracy: 0.8181 - val_loss: 0.4286 - val_accuracy: 0.8532\n",
      "Epoch 27/100\n",
      "645/645 [==============================] - 6s 10ms/step - loss: 0.5801 - accuracy: 0.8183 - val_loss: 0.3981 - val_accuracy: 0.8601\n",
      "Epoch 28/100\n",
      "645/645 [==============================] - 6s 10ms/step - loss: 0.5757 - accuracy: 0.8194 - val_loss: 0.3516 - val_accuracy: 0.8839\n",
      "Epoch 29/100\n",
      "645/645 [==============================] - 6s 10ms/step - loss: 0.5650 - accuracy: 0.8247 - val_loss: 0.4367 - val_accuracy: 0.8492\n",
      "Epoch 30/100\n",
      "645/645 [==============================] - 6s 10ms/step - loss: 0.5659 - accuracy: 0.8225 - val_loss: 0.4141 - val_accuracy: 0.8681\n",
      "Epoch 31/100\n",
      "645/645 [==============================] - 6s 10ms/step - loss: 0.5663 - accuracy: 0.8239 - val_loss: 0.3691 - val_accuracy: 0.8571\n",
      "Epoch 32/100\n",
      "645/645 [==============================] - 6s 10ms/step - loss: 0.5627 - accuracy: 0.8270 - val_loss: 0.4292 - val_accuracy: 0.8482\n",
      "Epoch 33/100\n",
      "645/645 [==============================] - 6s 10ms/step - loss: 0.5523 - accuracy: 0.8282 - val_loss: 0.3925 - val_accuracy: 0.8581\n",
      "Epoch 34/100\n",
      "645/645 [==============================] - 6s 10ms/step - loss: 0.5432 - accuracy: 0.8308 - val_loss: 0.3577 - val_accuracy: 0.8849\n",
      "Epoch 35/100\n",
      "645/645 [==============================] - 6s 10ms/step - loss: 0.5527 - accuracy: 0.8286 - val_loss: 0.3508 - val_accuracy: 0.8740\n",
      "Epoch 36/100\n",
      "645/645 [==============================] - 7s 11ms/step - loss: 0.5447 - accuracy: 0.8294 - val_loss: 0.4485 - val_accuracy: 0.8403\n",
      "Epoch 37/100\n",
      "645/645 [==============================] - 7s 10ms/step - loss: 0.5486 - accuracy: 0.8294 - val_loss: 0.4005 - val_accuracy: 0.8621\n",
      "Epoch 38/100\n",
      "645/645 [==============================] - 6s 10ms/step - loss: 0.5349 - accuracy: 0.8397 - val_loss: 0.3440 - val_accuracy: 0.8730\n",
      "Epoch 39/100\n",
      "645/645 [==============================] - 6s 10ms/step - loss: 0.5374 - accuracy: 0.8352 - val_loss: 0.3653 - val_accuracy: 0.8750\n",
      "Epoch 40/100\n",
      "645/645 [==============================] - 6s 10ms/step - loss: 0.5255 - accuracy: 0.8362 - val_loss: 0.5295 - val_accuracy: 0.8214\n",
      "Epoch 41/100\n",
      "645/645 [==============================] - 7s 10ms/step - loss: 0.5298 - accuracy: 0.8388 - val_loss: 0.4064 - val_accuracy: 0.8562\n",
      "Epoch 42/100\n",
      "645/645 [==============================] - 7s 11ms/step - loss: 0.5289 - accuracy: 0.8375 - val_loss: 0.3728 - val_accuracy: 0.8581\n",
      "Epoch 43/100\n",
      "645/645 [==============================] - 7s 11ms/step - loss: 0.5222 - accuracy: 0.8398 - val_loss: 0.3212 - val_accuracy: 0.8819\n",
      "Epoch 44/100\n",
      "645/645 [==============================] - 7s 11ms/step - loss: 0.5227 - accuracy: 0.8380 - val_loss: 0.3444 - val_accuracy: 0.8780\n",
      "Epoch 45/100\n",
      "645/645 [==============================] - 6s 10ms/step - loss: 0.5268 - accuracy: 0.8380 - val_loss: 0.3650 - val_accuracy: 0.8710\n",
      "Epoch 46/100\n",
      "645/645 [==============================] - 7s 10ms/step - loss: 0.5216 - accuracy: 0.8364 - val_loss: 0.3723 - val_accuracy: 0.8571\n",
      "Epoch 47/100\n",
      "645/645 [==============================] - 6s 10ms/step - loss: 0.5188 - accuracy: 0.8388 - val_loss: 0.3586 - val_accuracy: 0.8879\n",
      "Epoch 48/100\n",
      "645/645 [==============================] - 6s 10ms/step - loss: 0.5287 - accuracy: 0.8392 - val_loss: 0.3489 - val_accuracy: 0.8859\n",
      "Epoch 49/100\n",
      "645/645 [==============================] - 6s 10ms/step - loss: 0.5204 - accuracy: 0.8417 - val_loss: 0.3669 - val_accuracy: 0.8690\n",
      "Epoch 50/100\n",
      "645/645 [==============================] - 6s 10ms/step - loss: 0.5148 - accuracy: 0.8385 - val_loss: 0.3776 - val_accuracy: 0.8720\n",
      "Epoch 51/100\n",
      "645/645 [==============================] - 6s 10ms/step - loss: 0.5132 - accuracy: 0.8381 - val_loss: 0.3482 - val_accuracy: 0.8710\n",
      "Epoch 52/100\n",
      "645/645 [==============================] - 6s 10ms/step - loss: 0.5189 - accuracy: 0.8397 - val_loss: 0.3318 - val_accuracy: 0.8750\n",
      "Epoch 53/100\n",
      "645/645 [==============================] - 6s 10ms/step - loss: 0.5190 - accuracy: 0.8424 - val_loss: 0.3117 - val_accuracy: 0.8899\n",
      "Epoch 54/100\n",
      "645/645 [==============================] - 6s 10ms/step - loss: 0.5155 - accuracy: 0.8438 - val_loss: 0.2999 - val_accuracy: 0.8978\n",
      "Epoch 55/100\n",
      "645/645 [==============================] - 6s 10ms/step - loss: 0.5025 - accuracy: 0.8469 - val_loss: 0.3596 - val_accuracy: 0.8710\n",
      "Epoch 56/100\n",
      "645/645 [==============================] - 6s 10ms/step - loss: 0.5100 - accuracy: 0.8418 - val_loss: 0.3119 - val_accuracy: 0.8929\n",
      "Epoch 57/100\n"
     ]
    },
    {
     "name": "stdout",
     "output_type": "stream",
     "text": [
      "645/645 [==============================] - 6s 10ms/step - loss: 0.5094 - accuracy: 0.8451 - val_loss: 0.3275 - val_accuracy: 0.8780\n",
      "Epoch 58/100\n",
      "645/645 [==============================] - 6s 10ms/step - loss: 0.5180 - accuracy: 0.8446 - val_loss: 0.3760 - val_accuracy: 0.8631\n",
      "Epoch 59/100\n",
      "645/645 [==============================] - 6s 10ms/step - loss: 0.5040 - accuracy: 0.8455 - val_loss: 0.3278 - val_accuracy: 0.8988\n",
      "Epoch 60/100\n",
      "645/645 [==============================] - 6s 10ms/step - loss: 0.5098 - accuracy: 0.8431 - val_loss: 0.3517 - val_accuracy: 0.8839\n",
      "Epoch 61/100\n",
      "645/645 [==============================] - 6s 10ms/step - loss: 0.5003 - accuracy: 0.8464 - val_loss: 0.3280 - val_accuracy: 0.8810\n",
      "Epoch 62/100\n",
      "645/645 [==============================] - 6s 10ms/step - loss: 0.4993 - accuracy: 0.8464 - val_loss: 0.3676 - val_accuracy: 0.8819\n",
      "Epoch 63/100\n",
      "645/645 [==============================] - 6s 10ms/step - loss: 0.5021 - accuracy: 0.8437 - val_loss: 0.2878 - val_accuracy: 0.8978\n",
      "Epoch 64/100\n",
      "645/645 [==============================] - 6s 10ms/step - loss: 0.4988 - accuracy: 0.8476 - val_loss: 0.3001 - val_accuracy: 0.8919\n",
      "Epoch 65/100\n",
      "645/645 [==============================] - 6s 10ms/step - loss: 0.5000 - accuracy: 0.8440 - val_loss: 0.2783 - val_accuracy: 0.8998\n",
      "Epoch 66/100\n",
      "645/645 [==============================] - 6s 10ms/step - loss: 0.4952 - accuracy: 0.8449 - val_loss: 0.3870 - val_accuracy: 0.8661\n",
      "Epoch 67/100\n",
      "645/645 [==============================] - 6s 10ms/step - loss: 0.5077 - accuracy: 0.8427 - val_loss: 0.3435 - val_accuracy: 0.8780\n",
      "Epoch 68/100\n",
      "645/645 [==============================] - 7s 11ms/step - loss: 0.5081 - accuracy: 0.8475 - val_loss: 0.3207 - val_accuracy: 0.8869\n",
      "Epoch 69/100\n",
      "645/645 [==============================] - 6s 10ms/step - loss: 0.4972 - accuracy: 0.8447 - val_loss: 0.2944 - val_accuracy: 0.8859\n",
      "Epoch 70/100\n",
      "645/645 [==============================] - 6s 10ms/step - loss: 0.4992 - accuracy: 0.8501 - val_loss: 0.4937 - val_accuracy: 0.8244\n",
      "Epoch 71/100\n",
      "645/645 [==============================] - 6s 10ms/step - loss: 0.5090 - accuracy: 0.8450 - val_loss: 0.3954 - val_accuracy: 0.8472\n",
      "Epoch 72/100\n",
      "645/645 [==============================] - 6s 10ms/step - loss: 0.4984 - accuracy: 0.8468 - val_loss: 0.3248 - val_accuracy: 0.8829\n",
      "Epoch 73/100\n",
      "645/645 [==============================] - 6s 10ms/step - loss: 0.5076 - accuracy: 0.8431 - val_loss: 0.3339 - val_accuracy: 0.8909\n",
      "Epoch 74/100\n",
      "645/645 [==============================] - 6s 10ms/step - loss: 0.4999 - accuracy: 0.8450 - val_loss: 0.3172 - val_accuracy: 0.8909\n",
      "Epoch 75/100\n",
      "645/645 [==============================] - 6s 10ms/step - loss: 0.4969 - accuracy: 0.8463 - val_loss: 0.6181 - val_accuracy: 0.8194\n",
      "Epoch 76/100\n",
      "645/645 [==============================] - 6s 10ms/step - loss: 0.5026 - accuracy: 0.8484 - val_loss: 0.3186 - val_accuracy: 0.8998\n",
      "Epoch 77/100\n",
      "645/645 [==============================] - 6s 10ms/step - loss: 0.5002 - accuracy: 0.8443 - val_loss: 0.2859 - val_accuracy: 0.8938\n",
      "Epoch 78/100\n",
      "645/645 [==============================] - 6s 10ms/step - loss: 0.4949 - accuracy: 0.8510 - val_loss: 0.3605 - val_accuracy: 0.8770\n",
      "Epoch 79/100\n",
      "645/645 [==============================] - 6s 10ms/step - loss: 0.4932 - accuracy: 0.8465 - val_loss: 0.3994 - val_accuracy: 0.8760\n",
      "Epoch 80/100\n",
      "645/645 [==============================] - 6s 10ms/step - loss: 0.5009 - accuracy: 0.8481 - val_loss: 0.3106 - val_accuracy: 0.8909\n",
      "Epoch 81/100\n",
      "645/645 [==============================] - 6s 10ms/step - loss: 0.4975 - accuracy: 0.8468 - val_loss: 0.3289 - val_accuracy: 0.8770\n",
      "Epoch 82/100\n",
      "645/645 [==============================] - 6s 10ms/step - loss: 0.4956 - accuracy: 0.8464 - val_loss: 0.3573 - val_accuracy: 0.8800\n",
      "Epoch 83/100\n",
      "645/645 [==============================] - 6s 10ms/step - loss: 0.4915 - accuracy: 0.8483 - val_loss: 0.3328 - val_accuracy: 0.8869\n",
      "Epoch 84/100\n",
      "645/645 [==============================] - 6s 10ms/step - loss: 0.5138 - accuracy: 0.8429 - val_loss: 0.2921 - val_accuracy: 0.8988\n",
      "Epoch 85/100\n",
      "645/645 [==============================] - 6s 10ms/step - loss: 0.4970 - accuracy: 0.8483 - val_loss: 0.3729 - val_accuracy: 0.8790\n",
      "Epoch 86/100\n",
      "645/645 [==============================] - 6s 10ms/step - loss: 0.5070 - accuracy: 0.8454 - val_loss: 0.3018 - val_accuracy: 0.8919\n",
      "Epoch 87/100\n",
      "645/645 [==============================] - 6s 10ms/step - loss: 0.5064 - accuracy: 0.8440 - val_loss: 0.3699 - val_accuracy: 0.8780\n",
      "Epoch 88/100\n",
      "645/645 [==============================] - 6s 10ms/step - loss: 0.5038 - accuracy: 0.8464 - val_loss: 0.3297 - val_accuracy: 0.8790\n",
      "Epoch 89/100\n",
      "645/645 [==============================] - 6s 10ms/step - loss: 0.5038 - accuracy: 0.8493 - val_loss: 0.2986 - val_accuracy: 0.8810\n",
      "Epoch 90/100\n",
      "645/645 [==============================] - 6s 10ms/step - loss: 0.5028 - accuracy: 0.8485 - val_loss: 0.2910 - val_accuracy: 0.8948\n",
      "Epoch 91/100\n",
      "645/645 [==============================] - 6s 10ms/step - loss: 0.5061 - accuracy: 0.8463 - val_loss: 0.3295 - val_accuracy: 0.8780\n",
      "Epoch 92/100\n",
      "645/645 [==============================] - 6s 10ms/step - loss: 0.5038 - accuracy: 0.8447 - val_loss: 0.2390 - val_accuracy: 0.9077\n",
      "Epoch 93/100\n",
      "645/645 [==============================] - 6s 10ms/step - loss: 0.5039 - accuracy: 0.8462 - val_loss: 0.2678 - val_accuracy: 0.9117\n",
      "Epoch 94/100\n",
      "645/645 [==============================] - 6s 10ms/step - loss: 0.5051 - accuracy: 0.8473 - val_loss: 0.3286 - val_accuracy: 0.8889\n",
      "Epoch 95/100\n",
      "645/645 [==============================] - 6s 10ms/step - loss: 0.5027 - accuracy: 0.8448 - val_loss: 0.2714 - val_accuracy: 0.9028\n",
      "Epoch 96/100\n",
      "645/645 [==============================] - 6s 10ms/step - loss: 0.5015 - accuracy: 0.8473 - val_loss: 0.3481 - val_accuracy: 0.8790\n",
      "Epoch 97/100\n",
      "645/645 [==============================] - 6s 10ms/step - loss: 0.5121 - accuracy: 0.8440 - val_loss: 0.3194 - val_accuracy: 0.8889\n",
      "Epoch 98/100\n",
      "645/645 [==============================] - 6s 10ms/step - loss: 0.5016 - accuracy: 0.8468 - val_loss: 0.3417 - val_accuracy: 0.8829\n",
      "Epoch 99/100\n",
      "645/645 [==============================] - 6s 10ms/step - loss: 0.4978 - accuracy: 0.8482 - val_loss: 0.4191 - val_accuracy: 0.8641\n",
      "Epoch 100/100\n",
      "645/645 [==============================] - 6s 10ms/step - loss: 0.5112 - accuracy: 0.8477 - val_loss: 0.5119 - val_accuracy: 0.8264\n"
     ]
    }
   ],
   "source": [
    "history = model.fit(train_generator, epochs=100, validation_data=val_generator, verbose=1)"
   ]
  },
  {
   "cell_type": "code",
   "execution_count": 83,
   "id": "91c19499",
   "metadata": {},
   "outputs": [
    {
     "data": {
      "image/png": "[encoded data removed]",
      "text/plain": [
       "<Figure size 432x288 with 1 Axes>"
      ]
     },
     "metadata": {
      "needs_background": "light"
     },
     "output_type": "display_data"
    },
    {
     "data": {
      "text/plain": [
       "<Figure size 432x288 with 0 Axes>"
      ]
     },
     "metadata": {},
     "output_type": "display_data"
    },
    {
     "data": {
      "image/png": "[encoded data removed]",
      "text/plain": [
       "<Figure size 432x288 with 1 Axes>"
      ]
     },
     "metadata": {
      "needs_background": "light"
     },
     "output_type": "display_data"
    },
    {
     "data": {
      "text/plain": [
       "<Figure size 432x288 with 0 Axes>"
      ]
     },
     "metadata": {},
     "output_type": "display_data"
    }
   ],
   "source": [
    "acc = history.history['accuracy']\n",
    "val_acc = history.history['val_accuracy']\n",
    "\n",
    "epochs = range(len(acc))\n",
    "\n",
    "plt.plot(epochs, acc, 'b', label='Training Accuracy')\n",
    "plt.plot(epochs, val_acc, 'r', label='Validation Accuracy')\n",
    "plt.title(\"Training vs Validation Accuracy\")\n",
    "plt.legend(loc=0)\n",
    "plt.figure()\n",
    "plt.show()\n",
    "\n",
    "loss = history.history['loss']\n",
    "val_loss = history.history['val_loss']\n",
    "\n",
    "plt.plot(epochs, loss, 'b', label='Training Loss')\n",
    "plt.plot(epochs, val_loss, 'r', label='Validation Loss')\n",
    "plt.title(\"Training vs Validation Loss\")\n",
    "plt.legend(loc=0)\n",
    "plt.figure()\n",
    "plt.show()"
   ]
  },
  {
   "cell_type": "markdown",
   "id": "092c434e",
   "metadata": {},
   "source": [
    "### Predicting Data"
   ]
  },
  {
   "cell_type": "code",
   "execution_count": null,
   "id": "12307872",
   "metadata": {},
   "outputs": [],
   "source": []
  }
 ],
 "metadata": {
  "kernelspec": {
   "display_name": "Python 3 (ipykernel)",
   "language": "python",
   "name": "python3"
  },
  "language_info": {
   "codemirror_mode": {
    "name": "ipython",
    "version": 3
   },
   "file_extension": ".py",
   "mimetype": "text/x-python",
   "name": "python",
   "nbconvert_exporter": "python",
   "pygments_lexer": "ipython3",
   "version": "3.10.11"
  }
 },
 "nbformat": 4,
 "nbformat_minor": 5
}
