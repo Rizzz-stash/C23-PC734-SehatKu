{
 "cells": [
  {
   "cell_type": "code",
   "execution_count": 13,
   "id": "59503f06",
   "metadata": {},
   "outputs": [],
   "source": [
    "import numpy as np\n",
    "import matplotlib.pyplot as plt\n",
    "import matplotlib.image as mpimg\n",
    "import tensorflow as tf\n",
    "import cv2 as cv\n",
    "import os\n",
    "from tensorflow.keras.preprocessing.image import ImageDataGenerator"
   ]
  },
  {
   "cell_type": "code",
   "execution_count": 14,
   "id": "1b8c355a",
   "metadata": {},
   "outputs": [],
   "source": [
    "tf.keras.backend.clear_session()"
   ]
  },
  {
   "cell_type": "markdown",
   "id": "63cb6090",
   "metadata": {},
   "source": [
    "### Data Preprocessing"
   ]
  },
  {
   "cell_type": "code",
   "execution_count": 15,
   "id": "9ec2a780",
   "metadata": {},
   "outputs": [
    {
     "name": "stdout",
     "output_type": "stream",
     "text": [
      "total class in training set is 36\n",
      "total class in validation set is 36\n",
      "total data for training label R is 573\n",
      "total data for training label U is 573\n",
      "total data for training label 9 is 573\n",
      "total data for training label 0 is 573\n",
      "total data for training label 7 is 573\n",
      "total data for training label I is 573\n",
      "total data for training label N is 573\n",
      "total data for training label G is 573\n",
      "total data for training label 6 is 573\n",
      "total data for training label Z is 573\n",
      "total data for training label 1 is 573\n",
      "total data for training label 8 is 573\n",
      "total data for training label T is 573\n",
      "total data for training label S is 573\n",
      "total data for training label A is 573\n",
      "total data for training label F is 573\n",
      "total data for training label O is 573\n",
      "total data for training label H is 573\n",
      "total data for training label M is 573\n",
      "total data for training label J is 573\n",
      "total data for training label C is 573\n",
      "total data for training label D is 573\n",
      "total data for training label V is 573\n",
      "total data for training label Q is 573\n",
      "total data for training label 4 is 573\n",
      "total data for training label X is 573\n",
      "total data for training label 3 is 573\n",
      "total data for training label E is 573\n",
      "total data for training label B is 573\n",
      "total data for training label K is 573\n",
      "total data for training label L is 573\n",
      "total data for training label 2 is 573\n",
      "total data for training label Y is 573\n",
      "total data for training label 5 is 573\n",
      "total data for training label P is 573\n",
      "total data for training label W is 573\n",
      "total data for validation label R is 28\n",
      "total data for validation label U is 28\n",
      "total data for validation label 9 is 28\n",
      "total data for validation label 0 is 28\n",
      "total data for validation label 7 is 28\n",
      "total data for validation label I is 28\n",
      "total data for validation label N is 28\n",
      "total data for validation label G is 28\n",
      "total data for validation label 6 is 28\n",
      "total data for validation label Z is 28\n",
      "total data for validation label 1 is 28\n",
      "total data for validation label 8 is 28\n",
      "total data for validation label T is 28\n",
      "total data for validation label S is 28\n",
      "total data for validation label A is 28\n",
      "total data for validation label F is 28\n",
      "total data for validation label O is 28\n",
      "total data for validation label H is 28\n",
      "total data for validation label M is 28\n",
      "total data for validation label J is 28\n",
      "total data for validation label C is 28\n",
      "total data for validation label D is 28\n",
      "total data for validation label V is 28\n",
      "total data for validation label Q is 28\n",
      "total data for validation label 4 is 28\n",
      "total data for validation label X is 28\n",
      "total data for validation label 3 is 28\n",
      "total data for validation label E is 28\n",
      "total data for validation label B is 28\n",
      "total data for validation label K is 28\n",
      "total data for validation label L is 28\n",
      "total data for validation label 2 is 28\n",
      "total data for validation label Y is 28\n",
      "total data for validation label 5 is 28\n",
      "total data for validation label P is 28\n",
      "total data for validation label W is 28\n"
     ]
    }
   ],
   "source": [
    "base_dir = './../dataset/'\n",
    "train_image_dir = os.path.join(base_dir, 'character_digit/training_data')\n",
    "val_image_dir = os.path.join(base_dir, 'character_digit/testing_data')\n",
    "\n",
    "print(f\"total class in training set is {len(os.listdir(train_image_dir))}\")\n",
    "print(f\"total class in validation set is {len(os.listdir(train_image_dir))}\")\n",
    "\n",
    "for char in os.listdir(train_image_dir):\n",
    "    print(f\"total data for training label {char} is {len(os.listdir(train_image_dir+'/'+char))}\")\n",
    "    \n",
    "for char in os.listdir(val_image_dir):\n",
    "    print(f\"total data for validation label {char} is {len(os.listdir(val_image_dir+'/'+char))}\")"
   ]
  },
  {
   "cell_type": "code",
   "execution_count": 16,
   "id": "00215ad3",
   "metadata": {},
   "outputs": [],
   "source": [
    "train_data = ImageDataGenerator(\n",
    "    rescale=1./255\n",
    ")\n",
    "\n",
    "val_data = ImageDataGenerator(\n",
    "    rescale=1./255\n",
    ")"
   ]
  },
  {
   "cell_type": "code",
   "execution_count": 17,
   "id": "05417793",
   "metadata": {},
   "outputs": [
    {
     "name": "stdout",
     "output_type": "stream",
     "text": [
      "Found 20628 images belonging to 36 classes.\n",
      "Found 1008 images belonging to 36 classes.\n"
     ]
    }
   ],
   "source": [
    "train_generator = train_data.flow_from_directory(\n",
    "    train_image_dir,\n",
    "    target_size=(45,45),\n",
    "    class_mode='categorical',\n",
    ")\n",
    "val_generator = val_data.flow_from_directory(\n",
    "    val_image_dir,\n",
    "    target_size=(45,45),\n",
    "    class_mode='categorical',\n",
    ")"
   ]
  },
  {
   "cell_type": "code",
   "execution_count": 49,
   "id": "bf812a1b",
   "metadata": {},
   "outputs": [
    {
     "data": {
      "image/png": "[encoded data removed]",
      "text/plain": [
       "<Figure size 432x288 with 1 Axes>"
      ]
     },
     "metadata": {
      "needs_background": "light"
     },
     "output_type": "display_data"
    }
   ],
   "source": [
    "image_file = os.listdir(train_image_dir + '/A')[np.random.randint(500)]\n",
    "im_path = os.path.join(train_image_dir + '/A', image_file)\n",
    "img = mpimg.imread(im_path)\n",
    "plt.imshow(img)\n",
    "plt.show()"
   ]
  },
  {
   "cell_type": "markdown",
   "id": "0bd19480",
   "metadata": {},
   "source": [
    "### Data Modeling"
   ]
  },
  {
   "cell_type": "code",
   "execution_count": 22,
   "id": "36ab17d9",
   "metadata": {},
   "outputs": [],
   "source": [
    "# Model architecture\n",
    "model = tf.keras.Sequential([\n",
    "    tf.keras.layers.Conv2D(32, (3,3), activation='relu', input_shape=(45, 45, 3)),\n",
    "    tf.keras.layers.AveragePooling2D(2,2),\n",
    "    tf.keras.layers.Conv2D(64, (3,3), activation='relu'),\n",
    "    tf.keras.layers.AveragePooling2D(2,2),\n",
    "    tf.keras.layers.Conv2D(32, (3,3), activation='relu'),\n",
    "    tf.keras.layers.AveragePooling2D(2,2),\n",
    "    tf.keras.layers.Flatten(),\n",
    "    tf.keras.layers.Dense(units=256, activation='relu'),\n",
    "    tf.keras.layers.Dropout(0.2),\n",
    "    tf.keras.layers.Dense(units=64, activation='relu'),\n",
    "    tf.keras.layers.Dense(units=36, activation='softmax')\n",
    "])"
   ]
  },
  {
   "cell_type": "code",
   "execution_count": 23,
   "id": "fb00c4f5",
   "metadata": {},
   "outputs": [],
   "source": [
    "model.compile(\n",
    "    loss='categorical_crossentropy',\n",
    "    optimizer=tf.keras.optimizers.Adam(learning_rate=0.001),\n",
    "    metrics=['accuracy']\n",
    ")"
   ]
  },
  {
   "cell_type": "code",
   "execution_count": 25,
   "id": "d450fdac",
   "metadata": {},
   "outputs": [
    {
     "name": "stdout",
     "output_type": "stream",
     "text": [
      "Epoch 1/50\n",
      "645/645 [==============================] - 11s 17ms/step - loss: 0.2413 - accuracy: 0.9139 - val_loss: 0.1201 - val_accuracy: 0.9454\n",
      "Epoch 2/50\n",
      "645/645 [==============================] - 10s 16ms/step - loss: 0.2149 - accuracy: 0.9239 - val_loss: 0.1015 - val_accuracy: 0.9544\n",
      "Epoch 3/50\n",
      "645/645 [==============================] - 10s 15ms/step - loss: 0.2002 - accuracy: 0.9263 - val_loss: 0.1332 - val_accuracy: 0.9375\n",
      "Epoch 4/50\n",
      "645/645 [==============================] - 10s 16ms/step - loss: 0.1797 - accuracy: 0.9321 - val_loss: 0.0939 - val_accuracy: 0.9603\n",
      "Epoch 5/50\n",
      "645/645 [==============================] - 10s 16ms/step - loss: 0.1685 - accuracy: 0.9351 - val_loss: 0.1114 - val_accuracy: 0.9514\n",
      "Epoch 6/50\n",
      "645/645 [==============================] - 10s 16ms/step - loss: 0.1555 - accuracy: 0.9405 - val_loss: 0.0784 - val_accuracy: 0.9583\n",
      "Epoch 7/50\n",
      "645/645 [==============================] - 11s 17ms/step - loss: 0.1504 - accuracy: 0.9411 - val_loss: 0.1019 - val_accuracy: 0.9544\n",
      "Epoch 8/50\n",
      "645/645 [==============================] - 11s 17ms/step - loss: 0.1327 - accuracy: 0.9499 - val_loss: 0.0876 - val_accuracy: 0.9544\n",
      "Epoch 9/50\n",
      "645/645 [==============================] - 11s 17ms/step - loss: 0.1312 - accuracy: 0.9500 - val_loss: 0.0830 - val_accuracy: 0.9603\n",
      "Epoch 10/50\n",
      "645/645 [==============================] - 11s 17ms/step - loss: 0.1200 - accuracy: 0.9528 - val_loss: 0.0767 - val_accuracy: 0.9623\n",
      "Epoch 11/50\n",
      "645/645 [==============================] - 11s 18ms/step - loss: 0.1160 - accuracy: 0.9552 - val_loss: 0.0683 - val_accuracy: 0.9643\n",
      "Epoch 12/50\n",
      "645/645 [==============================] - 11s 17ms/step - loss: 0.1042 - accuracy: 0.9582 - val_loss: 0.0786 - val_accuracy: 0.9573\n",
      "Epoch 13/50\n",
      "645/645 [==============================] - 11s 17ms/step - loss: 0.1061 - accuracy: 0.9575 - val_loss: 0.0675 - val_accuracy: 0.9702\n",
      "Epoch 14/50\n",
      "645/645 [==============================] - 11s 17ms/step - loss: 0.1020 - accuracy: 0.9614 - val_loss: 0.0741 - val_accuracy: 0.9673\n",
      "Epoch 15/50\n",
      "645/645 [==============================] - 11s 17ms/step - loss: 0.0971 - accuracy: 0.9608 - val_loss: 0.0697 - val_accuracy: 0.9623\n",
      "Epoch 16/50\n",
      "645/645 [==============================] - 11s 17ms/step - loss: 0.0946 - accuracy: 0.9624 - val_loss: 0.0615 - val_accuracy: 0.9712\n",
      "Epoch 17/50\n",
      "645/645 [==============================] - 11s 17ms/step - loss: 0.0895 - accuracy: 0.9638 - val_loss: 0.0573 - val_accuracy: 0.9712\n",
      "Epoch 18/50\n",
      "645/645 [==============================] - 11s 17ms/step - loss: 0.0936 - accuracy: 0.9636 - val_loss: 0.0566 - val_accuracy: 0.9683\n",
      "Epoch 19/50\n",
      "645/645 [==============================] - 11s 17ms/step - loss: 0.0822 - accuracy: 0.9666 - val_loss: 0.0588 - val_accuracy: 0.9692\n",
      "Epoch 20/50\n",
      "645/645 [==============================] - 11s 17ms/step - loss: 0.0807 - accuracy: 0.9673 - val_loss: 0.0566 - val_accuracy: 0.9742\n",
      "Epoch 21/50\n",
      "645/645 [==============================] - 11s 17ms/step - loss: 0.0761 - accuracy: 0.9701 - val_loss: 0.0654 - val_accuracy: 0.9673\n",
      "Epoch 22/50\n",
      "645/645 [==============================] - 11s 18ms/step - loss: 0.0809 - accuracy: 0.9679 - val_loss: 0.0665 - val_accuracy: 0.9633\n",
      "Epoch 23/50\n",
      "645/645 [==============================] - 12s 18ms/step - loss: 0.0760 - accuracy: 0.9700 - val_loss: 0.0605 - val_accuracy: 0.9683\n",
      "Epoch 24/50\n",
      "645/645 [==============================] - 11s 17ms/step - loss: 0.0727 - accuracy: 0.9689 - val_loss: 0.0733 - val_accuracy: 0.9663\n",
      "Epoch 25/50\n",
      "645/645 [==============================] - 11s 17ms/step - loss: 0.0746 - accuracy: 0.9699 - val_loss: 0.0596 - val_accuracy: 0.9673\n",
      "Epoch 26/50\n",
      "645/645 [==============================] - 11s 17ms/step - loss: 0.0690 - accuracy: 0.9710 - val_loss: 0.0489 - val_accuracy: 0.9772\n",
      "Epoch 27/50\n",
      "645/645 [==============================] - 11s 17ms/step - loss: 0.0702 - accuracy: 0.9709 - val_loss: 0.0639 - val_accuracy: 0.9702\n",
      "Epoch 28/50\n",
      "645/645 [==============================] - 11s 17ms/step - loss: 0.0705 - accuracy: 0.9704 - val_loss: 0.0629 - val_accuracy: 0.9673\n",
      "Epoch 29/50\n",
      "645/645 [==============================] - 11s 17ms/step - loss: 0.0655 - accuracy: 0.9725 - val_loss: 0.0469 - val_accuracy: 0.9792\n",
      "Epoch 30/50\n",
      "645/645 [==============================] - 11s 17ms/step - loss: 0.0595 - accuracy: 0.9750 - val_loss: 0.0415 - val_accuracy: 0.9792\n",
      "Epoch 31/50\n",
      "645/645 [==============================] - 12s 18ms/step - loss: 0.0660 - accuracy: 0.9718 - val_loss: 0.0479 - val_accuracy: 0.9792\n",
      "Epoch 32/50\n",
      "645/645 [==============================] - 11s 17ms/step - loss: 0.0673 - accuracy: 0.9723 - val_loss: 0.0530 - val_accuracy: 0.9762\n",
      "Epoch 33/50\n",
      "645/645 [==============================] - 11s 17ms/step - loss: 0.0620 - accuracy: 0.9739 - val_loss: 0.0401 - val_accuracy: 0.9792\n",
      "Epoch 34/50\n",
      "645/645 [==============================] - 11s 17ms/step - loss: 0.0618 - accuracy: 0.9740 - val_loss: 0.0422 - val_accuracy: 0.9831\n",
      "Epoch 35/50\n",
      "645/645 [==============================] - 11s 17ms/step - loss: 0.0591 - accuracy: 0.9755 - val_loss: 0.0498 - val_accuracy: 0.9762\n",
      "Epoch 36/50\n",
      "645/645 [==============================] - 11s 17ms/step - loss: 0.0611 - accuracy: 0.9749 - val_loss: 0.0466 - val_accuracy: 0.9772\n",
      "Epoch 37/50\n",
      "645/645 [==============================] - 11s 17ms/step - loss: 0.0633 - accuracy: 0.9741 - val_loss: 0.0455 - val_accuracy: 0.9762\n",
      "Epoch 38/50\n",
      "645/645 [==============================] - 11s 17ms/step - loss: 0.0538 - accuracy: 0.9771 - val_loss: 0.0373 - val_accuracy: 0.9841\n",
      "Epoch 39/50\n",
      "645/645 [==============================] - 12s 18ms/step - loss: 0.0540 - accuracy: 0.9771 - val_loss: 0.0520 - val_accuracy: 0.9732\n",
      "Epoch 40/50\n",
      "645/645 [==============================] - 11s 17ms/step - loss: 0.0586 - accuracy: 0.9757 - val_loss: 0.0434 - val_accuracy: 0.9802\n",
      "Epoch 41/50\n",
      "645/645 [==============================] - 11s 18ms/step - loss: 0.0536 - accuracy: 0.9759 - val_loss: 0.0449 - val_accuracy: 0.9772\n",
      "Epoch 42/50\n",
      "645/645 [==============================] - 12s 18ms/step - loss: 0.0554 - accuracy: 0.9756 - val_loss: 0.0421 - val_accuracy: 0.9802\n",
      "Epoch 43/50\n",
      "645/645 [==============================] - 12s 19ms/step - loss: 0.0530 - accuracy: 0.9779 - val_loss: 0.0505 - val_accuracy: 0.9792\n",
      "Epoch 44/50\n",
      "645/645 [==============================] - 12s 18ms/step - loss: 0.0508 - accuracy: 0.9792 - val_loss: 0.0392 - val_accuracy: 0.9772\n",
      "Epoch 45/50\n",
      "645/645 [==============================] - 12s 19ms/step - loss: 0.0532 - accuracy: 0.9777 - val_loss: 0.0439 - val_accuracy: 0.9792\n",
      "Epoch 46/50\n",
      "645/645 [==============================] - 12s 18ms/step - loss: 0.0521 - accuracy: 0.9782 - val_loss: 0.0436 - val_accuracy: 0.9802\n",
      "Epoch 47/50\n",
      "645/645 [==============================] - 12s 18ms/step - loss: 0.0567 - accuracy: 0.9777 - val_loss: 0.0443 - val_accuracy: 0.9802\n",
      "Epoch 48/50\n",
      "645/645 [==============================] - 12s 18ms/step - loss: 0.0529 - accuracy: 0.9782 - val_loss: 0.0429 - val_accuracy: 0.9841\n",
      "Epoch 49/50\n",
      "645/645 [==============================] - 12s 19ms/step - loss: 0.0495 - accuracy: 0.9789 - val_loss: 0.0516 - val_accuracy: 0.9812\n",
      "Epoch 50/50\n",
      "645/645 [==============================] - 11s 18ms/step - loss: 0.0569 - accuracy: 0.9780 - val_loss: 0.0422 - val_accuracy: 0.9841\n"
     ]
    }
   ],
   "source": [
    "history = model.fit(train_generator, epochs=50, validation_data=val_generator, verbose=1)"
   ]
  },
  {
   "cell_type": "code",
   "execution_count": 26,
   "id": "91c19499",
   "metadata": {},
   "outputs": [
    {
     "data": {
      "image/png": "[encoded data removed]",
      "text/plain": [
       "<Figure size 432x288 with 1 Axes>"
      ]
     },
     "metadata": {
      "needs_background": "light"
     },
     "output_type": "display_data"
    },
    {
     "data": {
      "text/plain": [
       "<Figure size 432x288 with 0 Axes>"
      ]
     },
     "metadata": {},
     "output_type": "display_data"
    },
    {
     "data": {
      "image/png": "[encoded data removed]",
      "text/plain": [
       "<Figure size 432x288 with 1 Axes>"
      ]
     },
     "metadata": {
      "needs_background": "light"
     },
     "output_type": "display_data"
    },
    {
     "data": {
      "text/plain": [
       "<Figure size 432x288 with 0 Axes>"
      ]
     },
     "metadata": {},
     "output_type": "display_data"
    }
   ],
   "source": [
    "acc = history.history['accuracy']\n",
    "val_acc = history.history['val_accuracy']\n",
    "\n",
    "epochs = range(len(acc))\n",
    "\n",
    "plt.plot(epochs, acc, 'b', label='Training Accuracy')\n",
    "plt.plot(epochs, val_acc, 'r', label='Validation Accuracy')\n",
    "plt.title(\"Training vs Validation Accuracy\")\n",
    "plt.legend(loc=0)\n",
    "plt.figure()\n",
    "plt.show()\n",
    "\n",
    "loss = history.history['loss']\n",
    "val_loss = history.history['val_loss']\n",
    "\n",
    "plt.plot(epochs, loss, 'b', label='Training Loss')\n",
    "plt.plot(epochs, val_loss, 'r', label='Validation Loss')\n",
    "plt.title(\"Training vs Validation Loss\")\n",
    "plt.legend(loc=0)\n",
    "plt.figure()\n",
    "plt.show()"
   ]
  },
  {
   "cell_type": "markdown",
   "id": "b4f3fc84",
   "metadata": {},
   "source": [
    "#### If neccessary"
   ]
  },
  {
   "cell_type": "code",
   "execution_count": 21,
   "id": "2c047011",
   "metadata": {},
   "outputs": [],
   "source": [
    "# Tune the learning rate for optimizer\n",
    "lr_schedule = tf.keras.callbacks.LearningRateScheduler(\n",
    "    lambda epoch: 1e-8 * 10**(epoch / 20))"
   ]
  },
  {
   "cell_type": "code",
   "execution_count": 20,
   "id": "27ddb5e1",
   "metadata": {},
   "outputs": [],
   "source": [
    "# Define callback class\n",
    "class Callback_accuracy(tf.keras.callbacks.Callback):\n",
    "    def on_epoch_end(self, epoch, logs={}):\n",
    "        if logs.get('accuracy') > 0.99 or logs.get('loss')<0.01:\n",
    "            print(\"The model already has more than 0.9 accuracy or less than 0.02 loss\")\n",
    "            self.model.stop_training = True\n",
    "\n",
    "callbacks = Callback_accuracy()"
   ]
  },
  {
   "cell_type": "code",
   "execution_count": 52,
   "id": "5aeb7e39",
   "metadata": {},
   "outputs": [
    {
     "data": {
      "text/plain": [
       "(1e-08, 0.001, 0.0, 100.0)"
      ]
     },
     "execution_count": 52,
     "metadata": {},
     "output_type": "execute_result"
    },
    {
     "data": {
      "image/png": "[encoded data removed]",
      "text/plain": [
       "<Figure size 720x432 with 1 Axes>"
      ]
     },
     "metadata": {
      "needs_background": "light"
     },
     "output_type": "display_data"
    }
   ],
   "source": [
    "# # Define the learning rate array\n",
    "# lrs = 1e-8 * (10 ** (np.arange(50) / 20))\n",
    "\n",
    "# # Set the figure size\n",
    "# plt.figure(figsize=(10, 6))\n",
    "\n",
    "# # Set the grid\n",
    "# plt.grid(True)\n",
    "\n",
    "# # Plot the loss in log scale\n",
    "# plt.semilogx(lrs, history.history[\"loss\"])\n",
    "\n",
    "# # Increase the tickmarks size\n",
    "# plt.tick_params('both', length=10, width=1, which='both')\n",
    "\n",
    "# # Set the plot boundaries\n",
    "# plt.axis([1e-8, 1e-3, 0, 100])"
   ]
  },
  {
   "cell_type": "code",
   "execution_count": null,
   "id": "ee336e6f",
   "metadata": {},
   "outputs": [],
   "source": [
    "# If neccessary\n",
    "model.compile(\n",
    "    loss='categorical_crossentropy',\n",
    "    optimizer=tf.keras.optimizers.RMSprop(learning_rate=0.001),\n",
    "    metrics=['accuracy']\n",
    ")"
   ]
  },
  {
   "cell_type": "code",
   "execution_count": null,
   "id": "03182163",
   "metadata": {},
   "outputs": [],
   "source": [
    "history = model.fit(train_generator, epochs=50, validation_data=val_generator, verbose=1, callbacks=[callbacks])"
   ]
  },
  {
   "cell_type": "markdown",
   "id": "092c434e",
   "metadata": {},
   "source": [
    "### Predicting Data"
   ]
  },
  {
   "cell_type": "code",
   "execution_count": 86,
   "id": "12307872",
   "metadata": {},
   "outputs": [
    {
     "data": {
      "image/png": "[encoded data removed]",
      "text/plain": [
       "<Figure size 432x288 with 1 Axes>"
      ]
     },
     "metadata": {
      "needs_background": "light"
     },
     "output_type": "display_data"
    },
    {
     "name": "stdout",
     "output_type": "stream",
     "text": [
      "1/1 [==============================] - 0s 9ms/step\n",
      "path: /Z\n",
      "predicted:Z\n"
     ]
    }
   ],
   "source": [
    "from tensorflow.keras.utils import load_img, img_to_array\n",
    "\n",
    "cls = '/Z'\n",
    "image_file = os.listdir(train_image_dir + cls)[np.random.randint(500)]\n",
    "im_path = os.path.join(train_image_dir + cls, image_file)\n",
    "img = mpimg.imread(im_path)\n",
    "plt.imshow(img)\n",
    "plt.show()\n",
    "\n",
    "classes_obj = {\n",
    "    0: 0, 1:1, 2:2, 3:3, 4:4, 5:5, 6:6, 7:7, 8:8, 9:9, 10:\"A\", 11:\"B\", 12:\"C\", 13:\"D\", 14:\"E\", 15:\"F\", 16:\"G\", 17:\"H\",\n",
    "    18:\"I\", 19:\"J\", 20:\"K\", 21:\"L\", 22:\"M\", 23:\"N\", 24:\"O\", 25:\"P\", 26:\"Q\", 27:\"R\", 28:\"S\", 29:\"T\", 30:\"U\", 31:\"V\", 32:\"W\",\n",
    "    33:\"X\", 34:\"Y\", 35:\"Z\"\n",
    "}\n",
    "\n",
    " \n",
    "# predicting images\n",
    "img = load_img(im_path, target_size=(45, 45))\n",
    "x = img_to_array(img)\n",
    "x = np.expand_dims(x, axis=0)\n",
    "\n",
    "images = np.vstack([x])\n",
    "classes = model.predict(images, batch_size=10)\n",
    "print(f'path: {cls}\\npredicted:{classes_obj.get(np.argmax(classes))}')"
   ]
  },
  {
   "cell_type": "code",
   "execution_count": null,
   "id": "28422fea",
   "metadata": {},
   "outputs": [],
   "source": []
  }
 ],
 "metadata": {
  "kernelspec": {
   "display_name": "Python 3 (ipykernel)",
   "language": "python",
   "name": "python3"
  },
  "language_info": {
   "codemirror_mode": {
    "name": "ipython",
    "version": 3
   },
   "file_extension": ".py",
   "mimetype": "text/x-python",
   "name": "python",
   "nbconvert_exporter": "python",
   "pygments_lexer": "ipython3",
   "version": "3.10.11"
  }
 },
 "nbformat": 4,
 "nbformat_minor": 5
}
