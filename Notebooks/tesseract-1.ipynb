{
 "cells": [
  {
   "cell_type": "code",
   "execution_count": 17,
   "metadata": {},
   "outputs": [],
   "source": [
    "#Di cloud butuh library ini untuk run appnya\n",
    "import pytesseract\n",
    "import cv2\n",
    "import re"
   ]
  },
  {
   "cell_type": "code",
   "execution_count": 18,
   "metadata": {},
   "outputs": [],
   "source": [
    "#Kode bakal ngarahin ke aplikasi tesseract untuk menjalankan OCR tesseract\n",
    "#infrastruktur cloud perlu memprovide instalasi tesseract OCR, by pip dan applikasi\n",
    "#Untuk informasi lebih lanjut silahkan cek dokumentasi tesseract\n",
    "\n",
    "pytesseract.pytesseract.tesseract_cmd = r\"C:\\Program Files\\Tesseract-OCR\\tesseract.exe\""
   ]
  },
  {
   "cell_type": "code",
   "execution_count": 19,
   "metadata": {},
   "outputs": [],
   "source": [
    "#Butuh API yang bakal ngelanjutin dari pemrosesan deteksi Region ke tesseract, tesseract bakal baca text yang di dalam  region  saja, dan sudah di crop\n",
    "image = cv2.imread('D:/Latihan_Python/Notebooks/IMG_2210.JPG')\n"
   ]
  },
  {
   "cell_type": "code",
   "execution_count": 20,
   "metadata": {},
   "outputs": [],
   "source": [
    "#Tesseract mengambil kata yang ada di gambar\n",
    "text = pytesseract.image_to_string(image)"
   ]
  },
  {
   "cell_type": "code",
   "execution_count": 22,
   "metadata": {},
   "outputs": [
    {
     "name": "stdout",
     "output_type": "stream",
     "text": [
      "KOMPOSISI: Kentang , Minyak Kelapa Sawit (mengandung\n",
      "Antioksidan TBHQ), Bumbu Rasa Madu Mentega (mengandung\n",
      "Gula, Perisa Sintetik (mengandung Bubuk Mentega ),\n",
      "Padatan Susu, Hidrolisat Protein Kedelai, Garam, Bubuk Kecap,\n",
      "Penguat Rasa (Mononatrium Glutamat, Dinatrium Inosinat dan\n",
      "Guanilat), Pengatur Keasaman, Bubuk Keju, Pemanis Alami\n",
      "Glikosida Steviol, Bubuk Madu )\n",
      "\n",
      "Mengandung alergen, lihat daftar bahan yang dicetak tebal.\n",
      "\n",
      "Diproduksi menggunakan peralatan yang juga memproses Serealla,\n",
      "Telur, kan dan Kacang Pohon f si\n",
      "\n",
      "\n"
     ]
    }
   ],
   "source": [
    "#In a nutshell, baris kode dibawah akan mencari kata kunci yang disediakan\n",
    "# Tesseract akan mulai membaca dari kata kunci yang disediakan\n",
    "\n",
    "text = pytesseract.image_to_string(image)\n",
    "lines = text.split('\\n')  # Split the text into lines\n",
    "\n",
    "start_index = 0\n",
    "found_keywords = [\"KOMPOSISI:\", \"Komposisi\", \"Ingredients\", \"INGREDIENTS\", \"komposisi\", \"ingredients\", \"Ingredient\", \"ingredient\"]\n",
    "\n",
    "for i, line in enumerate(lines):\n",
    "    if any(keyword in line for keyword in found_keywords):\n",
    "        start_index = i\n",
    "        break\n",
    "\n",
    "# Extract the lines starting from the found keyword\n",
    "extracted_lines = lines[start_index:]\n",
    "\n",
    "cleaned_lines = []\n",
    "for line in extracted_lines:\n",
    "    cleaned_line = re.sub(r'\\(\\d+(\\.\\d+)?%\\)', '', line)  # Remove the percentage values like (0.0002%)\n",
    "    cleaned_lines.append(cleaned_line)\n",
    "\n",
    "for line in cleaned_lines:\n",
    "    print(line)"
   ]
  }
 ],
 "metadata": {
  "kernelspec": {
   "display_name": "Python 3",
   "language": "python",
   "name": "python3"
  },
  "language_info": {
   "codemirror_mode": {
    "name": "ipython",
    "version": 3
   },
   "file_extension": ".py",
   "mimetype": "text/x-python",
   "name": "python",
   "nbconvert_exporter": "python",
   "pygments_lexer": "ipython3",
   "version": "3.7.2"
  },
  "orig_nbformat": 4
 },
 "nbformat": 4,
 "nbformat_minor": 2
}
